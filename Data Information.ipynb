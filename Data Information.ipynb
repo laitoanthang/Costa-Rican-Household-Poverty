{
 "cells": [
  {
   "cell_type": "markdown",
   "metadata": {},
   "source": [
    "<div style=\"text-align: left; background-color:#E9F7EF; font-family:Arial; color:#526085; padding: 12px; line-height:1.25;border-radius:1px; margin-bottom: 0em; text-align: center; font-size: 58px;border-style: solid;border-color: dark green;\">Kaggle Competition: Costa Rican Household Poverty Level Prediction</div>\n"
   ]
  },
  {
   "cell_type": "markdown",
   "metadata": {},
   "source": [
    "<div class=\"list-group\" id=\"list-tab\" role=\"tablist\">\n",
    "    <h3 style=\"text-align: left; background-color: #ACA224; font-family:Tahoma; color: white; padding: 14px; line-height: 1; border-radius:10px\"><b>A. INTRODUCTION 📝</b></h3>"
   ]
  },
  {
   "cell_type": "markdown",
   "metadata": {},
   "source": [
    "<div style=\"border-radius:10px; border:#808080 solid; font-family: Tahoma; padding: 15px; background-color: ##F0E68C ; font-size:100%; text-align:left\">\n",
    "\n",
    "### **<h3 align=\"center\"><font>📂 DATA DESCRIPTION:</font></h3>**\n",
    "🏡 Đây là **challenge** ở trên kaggle được public bởi ngân hàng Inter-American Development.\n",
    "* Câu hỏi được đặt ra là phân tích bài toán như thế nào?\n",
    "* Dự đoán mức nghèo của các hộ gia đình ở Costa Rica để xác định hộ gia đình nào có nhu cầu hỗ trợ phúc lợi xã hội.\n",
    "* Có thể phân cụm hộ gia đình bằng cách xây dựng model hợp lý với độ chính xác tốt nhất.\n",
    "Bài nộp sẽ được đánh giá dựa trên điểm số macro F1.\n",
    "\n",
    "\n",
    "**{train|test}.csv** - tập dữ liệu huấn luyện\n",
    "\n",
    "- Chia làm 2 tập: Train (có cột Target) and Test (không có cột Target).\n",
    "- Mỗi dòng đại diện cho một mẫu dữ liệu.\n",
    "- Nhiều người có thể là một phần của hộ gia đình. Nhưng chỉ sự dự đoán của chủ hộ là được chấm điểm.\n",
    "\n",
    "**sample_submission.csv** - tập dữ liệu mẫu\n",
    "\n",
    "**codebook.csv**: Giải thích ý nghĩa các cột của dataset\n",
    "\n",
    "**Target** Feature:\n",
    "\t- 1: Cực nghèo - 2: Nghèo vừa - 3: Hộ gia đình có nguy cơ - 4: Hộ gia đình không nghèo\n",
    "\n",
    "Link dataset: https://www.kaggle.com/competitions/costa-rican-household-poverty-prediction/data\n"
   ]
  },
  {
   "cell_type": "markdown",
   "metadata": {},
   "source": [
    "<div class=\"list-group\" id=\"list-tab\" role=\"tablist\">\n",
    "    <h3 style=\"text-align: left; background-color: #ACA224; font-family:Tahoma; color: white; padding: 14px; line-height: 1; border-radius:10px\"><b>B. DATA EXPLORATION 📝</b></h3>"
   ]
  },
  {
   "cell_type": "markdown",
   "metadata": {},
   "source": [
    "Ý nghĩa các features có trong [document của cuộc thi](https://www.kaggle.com/c/costa-rican-household-poverty-prediction/data). Nhưng chú ý những điều sau\n",
    "* Id: một định danh duy nhất cho mỗi cá nhân, điều này không phải là một đặc điểm mà chúng ta sử dụng!\n",
    "* idhogar: một định danh duy nhất cho mỗi hộ gia đình. Biến số này không phải là một đặc điểm, nhưng sẽ được sử dụng để nhóm các cá nhân theo hộ gia đình vì tất cả các cá nhân trong một hộ gia đình sẽ có cùng định danh.\n",
    "* parentesco1: cho biết nếu người này là trưởng của hộ gia đình.\n",
    "* Target: nhãn, mà nên bằng nhau đối với tất cả các thành viên trong một hộ gia đình.\n",
    "* age: tuổi của người được dự đoán.\n",
    "* escolari: số năm học của người được dự đoán.\n",
    "* hogar_nin: số trẻ em trong gia đình dưới 19 tuổi.\n",
    "* hogar_adul: số người lớn trong gia đình.\n",
    "* hogar_total: tổng số người trong gia đình.\n",
    "* rez_esc: số năm học đã bỏ lỡ cho các em học sinh.\n",
    "* meaneduc: số năm học trung bình của các thành viên trong hộ gia đình.\n",
    "* dependency: tỷ lệ phụ thuộc của các thành viên trong hộ gia đình vào người đại diện cho hộ gia đình.\n",
    "* region: vùng của Costa Rica, mỗi vùng có thể có các tính chất địa lý và kinh tế khác nhau.\n"
   ]
  }
 ],
 "metadata": {
  "kernelspec": {
   "display_name": "base",
   "language": "python",
   "name": "python3"
  },
  "language_info": {
   "codemirror_mode": {
    "name": "ipython",
    "version": 3
   },
   "file_extension": ".py",
   "mimetype": "text/x-python",
   "name": "python",
   "nbconvert_exporter": "python",
   "pygments_lexer": "ipython3",
   "version": "3.9.13"
  },
  "orig_nbformat": 4
 },
 "nbformat": 4,
 "nbformat_minor": 2
}
